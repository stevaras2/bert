{
  "nbformat": 4,
  "nbformat_minor": 0,
  "metadata": {
    "colab": {
      "name": "create dataset(BERT).ipynb",
      "version": "0.3.2",
      "provenance": []
    },
    "kernelspec": {
      "name": "python3",
      "display_name": "Python 3"
    },
    "accelerator": "GPU"
  },
  "cells": [
    {
      "cell_type": "code",
      "metadata": {
        "id": "EVWpYXL69mH7",
        "colab_type": "code",
        "colab": {}
      },
      "source": [
        "!nvcc --version\n"
      ],
      "execution_count": 0,
      "outputs": []
    },
    {
      "cell_type": "code",
      "metadata": {
        "id": "cE1eJ5fiyJos",
        "colab_type": "code",
        "outputId": "20e4691d-f81a-4889-d0e9-78d258716a8c",
        "colab": {
          "base_uri": "https://localhost:8080/",
          "height": 360
        }
      },
      "source": [
        "!pip install bert-embedding\n",
        "!pip install mxnet-cu100"
      ],
      "execution_count": 0,
      "outputs": [
        {
          "output_type": "stream",
          "text": [
            "Requirement already satisfied: bert-embedding in /usr/local/lib/python3.6/dist-packages (1.0.1)\n",
            "Requirement already satisfied: numpy==1.14.6 in /usr/local/lib/python3.6/dist-packages (from bert-embedding) (1.14.6)\n",
            "Requirement already satisfied: gluonnlp==0.6.0 in /usr/local/lib/python3.6/dist-packages (from bert-embedding) (0.6.0)\n",
            "Requirement already satisfied: mxnet==1.4.0 in /usr/local/lib/python3.6/dist-packages (from bert-embedding) (1.4.0)\n",
            "Requirement already satisfied: typing==3.6.6 in /usr/local/lib/python3.6/dist-packages (from bert-embedding) (3.6.6)\n",
            "Requirement already satisfied: requests>=2.20.0 in /usr/local/lib/python3.6/dist-packages (from mxnet==1.4.0->bert-embedding) (2.21.0)\n",
            "Requirement already satisfied: graphviz<0.9.0,>=0.8.1 in /usr/local/lib/python3.6/dist-packages (from mxnet==1.4.0->bert-embedding) (0.8.4)\n",
            "Requirement already satisfied: chardet<3.1.0,>=3.0.2 in /usr/local/lib/python3.6/dist-packages (from requests>=2.20.0->mxnet==1.4.0->bert-embedding) (3.0.4)\n",
            "Requirement already satisfied: certifi>=2017.4.17 in /usr/local/lib/python3.6/dist-packages (from requests>=2.20.0->mxnet==1.4.0->bert-embedding) (2019.3.9)\n",
            "Requirement already satisfied: urllib3<1.25,>=1.21.1 in /usr/local/lib/python3.6/dist-packages (from requests>=2.20.0->mxnet==1.4.0->bert-embedding) (1.24.3)\n",
            "Requirement already satisfied: idna<2.9,>=2.5 in /usr/local/lib/python3.6/dist-packages (from requests>=2.20.0->mxnet==1.4.0->bert-embedding) (2.8)\n",
            "Requirement already satisfied: mxnet-cu100 in /usr/local/lib/python3.6/dist-packages (1.4.1)\n",
            "Requirement already satisfied: requests>=2.20.0 in /usr/local/lib/python3.6/dist-packages (from mxnet-cu100) (2.21.0)\n",
            "Requirement already satisfied: graphviz<0.9.0,>=0.8.1 in /usr/local/lib/python3.6/dist-packages (from mxnet-cu100) (0.8.4)\n",
            "Requirement already satisfied: numpy<1.15.0,>=1.8.2 in /usr/local/lib/python3.6/dist-packages (from mxnet-cu100) (1.14.6)\n",
            "Requirement already satisfied: urllib3<1.25,>=1.21.1 in /usr/local/lib/python3.6/dist-packages (from requests>=2.20.0->mxnet-cu100) (1.24.3)\n",
            "Requirement already satisfied: chardet<3.1.0,>=3.0.2 in /usr/local/lib/python3.6/dist-packages (from requests>=2.20.0->mxnet-cu100) (3.0.4)\n",
            "Requirement already satisfied: idna<2.9,>=2.5 in /usr/local/lib/python3.6/dist-packages (from requests>=2.20.0->mxnet-cu100) (2.8)\n",
            "Requirement already satisfied: certifi>=2017.4.17 in /usr/local/lib/python3.6/dist-packages (from requests>=2.20.0->mxnet-cu100) (2019.3.9)\n"
          ],
          "name": "stdout"
        }
      ]
    },
    {
      "cell_type": "code",
      "metadata": {
        "id": "cYTHA64OyTvT",
        "colab_type": "code",
        "outputId": "03c83c85-4588-488e-ea16-dc55de34180d",
        "colab": {
          "base_uri": "https://localhost:8080/",
          "height": 88
        }
      },
      "source": [
        "import mxnet as mx\n",
        "from bert_embedding import BertEmbedding\n",
        "\n",
        "ctx = mx.gpu(0)\n",
        "bert = BertEmbedding(ctx=ctx)"
      ],
      "execution_count": 0,
      "outputs": [
        {
          "output_type": "stream",
          "text": [
            "Vocab file is not found. Downloading.\n",
            "Downloading /root/.mxnet/models/book_corpus_wiki_en_uncased-a6607397.zip from https://apache-mxnet.s3-accelerate.dualstack.amazonaws.com/gluon/dataset/vocab/book_corpus_wiki_en_uncased-a6607397.zip...\n",
            "Downloading /root/.mxnet/models/bert_12_768_12_book_corpus_wiki_en_uncased-75cc780f.zip from https://apache-mxnet.s3-accelerate.dualstack.amazonaws.com/gluon/models/bert_12_768_12_book_corpus_wiki_en_uncased-75cc780f.zip...\n"
          ],
          "name": "stdout"
        }
      ]
    },
    {
      "cell_type": "code",
      "metadata": {
        "id": "nLT7DRX6WnwO",
        "colab_type": "code",
        "colab": {}
      },
      "source": [
        "import pandas as pd\n",
        "\n",
        "positive = pd.read_csv('positive_sentences.csv',header= None)\n",
        "check_me = positive[positive[1].__eq__(\"001.tei.xml\")]\n",
        "sentences_list = list()\n",
        "for row in check_me.iterrows():\n",
        "  sentences_list.append(row[1][0])\n",
        "  \n",
        "check_me"
      ],
      "execution_count": 0,
      "outputs": []
    },
    {
      "cell_type": "code",
      "metadata": {
        "id": "0NkX9ae4aLb_",
        "colab_type": "code",
        "colab": {}
      },
      "source": [
        "bert = BertEmbedding(ctx=ctx,max_seq_length=150)\n"
      ],
      "execution_count": 0,
      "outputs": []
    },
    {
      "cell_type": "code",
      "metadata": {
        "id": "mail-EhvbwaW",
        "colab_type": "code",
        "colab": {}
      },
      "source": [
        "results = bert(sentences_list)"
      ],
      "execution_count": 0,
      "outputs": []
    },
    {
      "cell_type": "code",
      "metadata": {
        "id": "NcH9a4NQb0wb",
        "colab_type": "code",
        "outputId": "ea9467a2-c389-4e4a-d0b1-42943c7b81ad",
        "colab": {
          "base_uri": "https://localhost:8080/",
          "height": 272
        }
      },
      "source": [
        "import numpy as np\n",
        "for result in results:\n",
        "  print(len(result[0]),np.average(np.array(result[1]),axis = 0).shape)\n",
        "#print(np.average(np.array(results[0][1]),axis = 0).shape)\n",
        "#print(results[0][0])"
      ],
      "execution_count": 0,
      "outputs": [
        {
          "output_type": "stream",
          "text": [
            "20 (768,)\n",
            "103 (768,)\n",
            "8 (768,)\n",
            "10 (768,)\n",
            "7 (768,)\n",
            "12 (768,)\n",
            "45 (768,)\n",
            "24 (768,)\n",
            "20 (768,)\n",
            "13 (768,)\n",
            "14 (768,)\n",
            "118 (768,)\n",
            "25 (768,)\n",
            "28 (768,)\n",
            "81 (768,)\n"
          ],
          "name": "stdout"
        }
      ]
    },
    {
      "cell_type": "code",
      "metadata": {
        "id": "UL14tXGsGGVB",
        "colab_type": "code",
        "colab": {}
      },
      "source": [
        "import zipfile\n",
        "with zipfile.ZipFile(\"train_papers.zip\",\"r\") as zip_ref:\n",
        "    zip_ref.extractall('train_papers')"
      ],
      "execution_count": 0,
      "outputs": []
    },
    {
      "cell_type": "code",
      "metadata": {
        "id": "Mt4A1KWFGTMU",
        "colab_type": "code",
        "colab": {}
      },
      "source": [
        "import os \n",
        "from numpy import dot\n",
        "from numpy.linalg import norm\n",
        "import numpy as np\n",
        "\n",
        "papers = os.listdir(\"train_papers\")\n",
        "dataset = pd.read_csv(\"sentences111.csv\")\n",
        "#print(dataset)\n",
        "i = 1\n",
        "cosine = dict()#list()\n",
        "cosine1 = dict()\n",
        "papers.sort()\n",
        "for paper in papers:\n",
        "  \n",
        "  print(paper)\n",
        "  positive_sentences =  positive[positive[1].__eq__(paper)]\n",
        "  sentences = dataset[dataset['paper'].__eq__(paper)]\n",
        "  \n",
        "  positive_sentences_list = list()\n",
        "  for row in positive_sentences.iterrows():\n",
        "    positive_sentences_list.append(str(row[1][0]))\n",
        "  \n",
        "  positive_results = bert(positive_sentences_list)\n",
        "  positive_bert = list()\n",
        "  for result in positive_results:\n",
        "    positive_bert.append(np.average(np.array(result[1]),axis = 0))\n",
        "  \n",
        "  \n",
        "  \n",
        "  #print(len(positive_sentences_list))\n",
        "  sentences_list = list()\n",
        "  for row in sentences.iterrows():\n",
        "    sen = row[1][0]\n",
        "    if sen in positive_sentences_list:\n",
        "      #print(i)\n",
        "      i += 1\n",
        "    sentences_list.append(str(row[1][0]))\n",
        "  \n",
        "  sentences_results = bert(sentences_list)\n",
        "  #sentences_bert = list()\n",
        "  for result in sentences_results:\n",
        "    sent = result[0]\n",
        "    sentence = \"\"\n",
        "    for word in sent:\n",
        "      sentence += word+\" \"\n",
        "    \n",
        "    sentences_bert = np.average(np.array(result[1]),axis = 0)\n",
        "    max_cosine = 0.0\n",
        "    for emb in positive_bert:\n",
        "      cos_sim = dot(sentences_bert, emb)/(norm(sentences_bert)*norm(emb))\n",
        "      if max_cosine < cos_sim:\n",
        "        max_cosine = cos_sim\n",
        "   \n",
        "  \n",
        "    if sentence[:-1] in sentences_list:\n",
        "      cosine[sentence[:-1]] = max_cosine\n",
        "    elif sentence in sentences_list:\n",
        "      cosine[sentence] = max_cosine\n",
        "    #cosine.append(max_cosine)\n",
        "\n",
        "    "
      ],
      "execution_count": 0,
      "outputs": []
    },
    {
      "cell_type": "code",
      "metadata": {
        "id": "9ms6SEEaUVgK",
        "colab_type": "code",
        "outputId": "c6b83a17-363a-4de9-aee5-956d10355ad2",
        "colab": {
          "base_uri": "https://localhost:8080/",
          "height": 34
        }
      },
      "source": [
        "i = 0\n",
        "cosine_sim = list()\n",
        "for j in cosine.values():\n",
        "  if j > 0.82:\n",
        "    i += 1\n",
        "  cosine_sim.append(j)\n",
        "  \n",
        "print(i)"
      ],
      "execution_count": 0,
      "outputs": [
        {
          "output_type": "stream",
          "text": [
            "4915\n"
          ],
          "name": "stdout"
        }
      ]
    },
    {
      "cell_type": "code",
      "metadata": {
        "id": "0IyC1s1ba2kX",
        "colab_type": "code",
        "outputId": "bb05425e-6507-4952-f358-f9cd2966606a",
        "colab": {
          "base_uri": "https://localhost:8080/",
          "height": 295
        }
      },
      "source": [
        "%matplotlib inline\n",
        "import matplotlib.pyplot as plt\n",
        "my_hist = pd.Series(cosine_sim)\n",
        "my_hist.plot.hist(grid=True, bins=20, rwidth=0.9,\n",
        "                   color='#607c8e')\n",
        "plt.title('Cosine Similarity')\n",
        "plt.xlabel('Counts')\n",
        "plt.ylabel('Cosine Intervals')\n",
        "plt.grid(axis='y', alpha=0.75)"
      ],
      "execution_count": 0,
      "outputs": [
        {
          "output_type": "display_data",
          "data": {
            "image/png": "[encoded data removed]",
            "text/plain": [
              "<Figure size 432x288 with 1 Axes>"
            ]
          },
          "metadata": {
            "tags": []
          }
        }
      ]
    },
    {
      "cell_type": "code",
      "metadata": {
        "id": "LXoGM_J6ciW-",
        "colab_type": "code",
        "colab": {}
      },
      "source": [
        "labels = list()\n",
        "for row in dataset.iterrows():\n",
        "  sentence = row[1][0]\n",
        "  if sentence not in cosine:\n",
        "    labels.append(0)\n",
        "  else:\n",
        "    if cosine[sentence] > 0.82:\n",
        "      labels.append(1)\n",
        "    else:\n",
        "      labels.append(0)"
      ],
      "execution_count": 0,
      "outputs": []
    },
    {
      "cell_type": "code",
      "metadata": {
        "id": "jhWWjMLuelBI",
        "colab_type": "code",
        "outputId": "42256910-f3ea-4985-9b23-9e7dea320907",
        "colab": {
          "base_uri": "https://localhost:8080/",
          "height": 34
        }
      },
      "source": [
        "from collections import Counter\n",
        "\n",
        "count = Counter(labels)\n",
        "print(count)"
      ],
      "execution_count": 0,
      "outputs": [
        {
          "output_type": "stream",
          "text": [
            "Counter({0: 5735, 1: 4915})\n"
          ],
          "name": "stdout"
        }
      ]
    },
    {
      "cell_type": "code",
      "metadata": {
        "id": "1OdAtt7si-yB",
        "colab_type": "code",
        "outputId": "2cdbf524-962b-4fdd-b0f6-7892af38f383",
        "colab": {
          "base_uri": "https://localhost:8080/",
          "height": 34
        }
      },
      "source": [
        "new_dataset = dataset.iloc[:,:-1]\n",
        "new_dataset['label'] = labels\n",
        "print(new_dataset.shape)"
      ],
      "execution_count": 0,
      "outputs": [
        {
          "output_type": "stream",
          "text": [
            "(10650, 6)\n"
          ],
          "name": "stdout"
        }
      ]
    },
    {
      "cell_type": "code",
      "metadata": {
        "id": "w1hKrXHYk6Y-",
        "colab_type": "code",
        "colab": {}
      },
      "source": [
        "new_dataset.to_csv(\"train_sentences1.csv\",header=True,index=None)"
      ],
      "execution_count": 0,
      "outputs": []
    }
  ]
}